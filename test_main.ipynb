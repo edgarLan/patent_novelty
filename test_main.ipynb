{
 "cells": [
  {
   "cell_type": "code",
   "execution_count": 1,
   "id": "e1099d18",
   "metadata": {},
   "outputs": [],
   "source": [
    "from utils.config_utils import read_config_txt"
   ]
  },
  {
   "cell_type": "code",
   "execution_count": 17,
   "id": "1e6ad817",
   "metadata": {},
   "outputs": [
    {
     "data": {
      "text/plain": [
       "{'test': [2016],\n",
       " 'pathData': 'C:/Users/edgar/OneDrive/Bureau/Ecole/HEC/A24/BrevetNLP/patent_novelty/data',\n",
       " 'pathMetrics': 'C:/Users/edgar/OneDrive/Bureau/Ecole/HEC/A24/BrevetNLP/patent_novelty/metrics',\n",
       " 'yearList': [2016],\n",
       " 'ipcList': ['F03D'],\n",
       " 'decompress': False,\n",
       " 'csv_raw': False,\n",
       " 'technet': False,\n",
       " 'metrics_raw': False,\n",
       " 'csv_clean': False,\n",
       " 'match_app_pat': False,\n",
       " 'controlVars': False,\n",
       " 'cd_index_compute': False,\n",
       " 'metricAnalysis': False,\n",
       " 'top10': False,\n",
       " 'listYearsUnComp': [2007,\n",
       "  2008,\n",
       "  2009,\n",
       "  2010,\n",
       "  2011,\n",
       "  2012,\n",
       "  2013,\n",
       "  2014,\n",
       "  2015,\n",
       "  2016],\n",
       " 'listIPC': ['G06F',\n",
       "  'G01N',\n",
       "  'A61B',\n",
       "  'B60L',\n",
       "  'E21B',\n",
       "  'F03D',\n",
       "  'H01L',\n",
       "  'H04W',\n",
       "  'C07D',\n",
       "  'B32B'],\n",
       " 'listYearsEval': [2012, 2013, 2014, 2015, 2016],\n",
       " 'nbYearsRef': 5,\n",
       " 'batch_size': 100000,\n",
       " 'tE_cols': ['claims'],\n",
       " 'base_cols': ['claims', 'background'],\n",
       " 'w_size': 3,\n",
       " 'chunksize': 10000,\n",
       " 'metrics_to_compute': ['newness', 'uniqueness', 'difference', 'surprise'],\n",
       " 'thr_new_div': 0.0041,\n",
       " 'thr_new_div_flag': 0.0014,\n",
       " 'thr_new_prob': 57.14,\n",
       " 'thr_new_prob_flag': 0.0014,\n",
       " 'thr_uniq_flag': 0.527,\n",
       " 'thr_uniqp_flag': 0.1295,\n",
       " 'useClusters': True,\n",
       " 'nb_clusters': 4,\n",
       " 'neighbor_dist': 0,\n",
       " 'thr_diff': 0.85,\n",
       " 'thr_surp': 0.00256,\n",
       " 'forDemo': True,\n",
       " 'sC': [['claims', 'background']],\n",
       " 'p_rbo': 0.9,\n",
       " 'vsList': ['claims_vs_claims_background_Metrics']}"
      ]
     },
     "execution_count": 17,
     "metadata": {},
     "output_type": "execute_result"
    }
   ],
   "source": [
    "config = read_config_txt(\"config.txt\")\n",
    "config"
   ]
  },
  {
   "cell_type": "markdown",
   "id": "737b7072",
   "metadata": {},
   "source": [
    "### From targz to json"
   ]
  },
  {
   "cell_type": "code",
   "execution_count": null,
   "id": "e6e598ff",
   "metadata": {},
   "outputs": [],
   "source": [
    "from utils.importation import tar_gz2json\n",
    "if config[\"decompress\"]:\n",
    "    tar_gz2json(2013, 2013, config[\"pathData\"])"
   ]
  },
  {
   "cell_type": "code",
   "execution_count": 12,
   "id": "672f7ac5",
   "metadata": {},
   "outputs": [
    {
     "name": "stdout",
     "output_type": "stream",
     "text": [
      "Extracted: C:/Users/edgar/OneDrive/Bureau/Ecole/HEC/A24/BrevetNLP/patent_novelty/data\\compressedData\\2013.tar.gz in 8358.09 seconds\n"
     ]
    }
   ],
   "source": [
    "# pathDataComp = \"C:/Users/edgar/OneDrive/Bureau/Ecole/HEC/A24/BrevetNLP/patent_novelty/data/compressedData\" #\"/home/edgarlanoue/data/dataCompressed/\"\n",
    "# pathData =   \"C:/Users/edgar/OneDrive/Bureau/Ecole/HEC/A24/BrevetNLP/patent_novelty/data/jsonData\" #\"/home/edgarlanoue/data/data\"\n",
    "tar_gz2json(2013, 2013, config[\"pathData\"])"
   ]
  },
  {
   "cell_type": "markdown",
   "id": "84eaac95",
   "metadata": {},
   "source": [
    "### From json to csv raw"
   ]
  },
  {
   "cell_type": "code",
   "execution_count": 3,
   "id": "ea583f19",
   "metadata": {},
   "outputs": [],
   "source": [
    "from utils.importation import loopFinal\n",
    "if config[\"csv_raw\"]:\n",
    "    loopFinal(\n",
    "        listIPC=config[\"listIPC\"],\n",
    "        listYearsEval=config[\"listYearsEval\"],\n",
    "        nbYearsRef=config[\"nbYearsRef\"],\n",
    "        pathData=config[\"pathData\"],\n",
    "        pathOutput=config[\"pathOutput\"],\n",
    "        batch_size=config[\"batch_size\"]\n",
    "    )\n",
    "# 6m - should be around 60 hours for full data"
   ]
  },
  {
   "cell_type": "markdown",
   "id": "da221e49",
   "metadata": {},
   "source": [
    "### From csv raw to csv clean"
   ]
  },
  {
   "cell_type": "code",
   "execution_count": 4,
   "id": "a03bb6e8",
   "metadata": {},
   "outputs": [
    {
     "name": "stderr",
     "output_type": "stream",
     "text": [
      "c:\\Users\\edgar\\OneDrive\\Bureau\\Ecole\\HEC\\A24\\BrevetNLP\\.conda\\Lib\\site-packages\\spacy\\util.py:910: UserWarning: [W095] Model 'en_core_web_sm' (3.8.0) was trained with spaCy v3.8.0 and may not be 100% compatible with the current version (3.7.5). If you see errors or degraded performance, download a newer compatible model or retrain your custom model with the current spaCy version. For more details and available updates, run: python -m spacy validate\n",
      "  warnings.warn(warn_msg)\n",
      "c:\\Users\\edgar\\OneDrive\\Bureau\\Ecole\\HEC\\A24\\BrevetNLP\\.conda\\Lib\\site-packages\\spacy\\util.py:910: UserWarning: [W095] Model 'en_core_web_sm' (3.8.0) was trained with spaCy v3.8.0 and may not be 100% compatible with the current version (3.7.5). If you see errors or degraded performance, download a newer compatible model or retrain your custom model with the current spaCy version. For more details and available updates, run: python -m spacy validate\n",
      "  warnings.warn(warn_msg)\n",
      "[nltk_data] Downloading package stopwords to\n",
      "[nltk_data]     C:\\Users\\edgar\\AppData\\Roaming\\nltk_data...\n",
      "[nltk_data]   Package stopwords is already up-to-date!\n"
     ]
    }
   ],
   "source": [
    "from utils.utils import createCleanTechnet, lemmatizeTechnet\n",
    "if config[\"technet\"]:\n",
    "    createCleanTechnet(config[\"pathData\"]) # 10 sec\n",
    "    lemmatizeTechnet(config[\"pathData\"]) # 5m30"
   ]
  },
  {
   "cell_type": "code",
   "execution_count": 5,
   "id": "2684ee70",
   "metadata": {},
   "outputs": [],
   "source": [
    "from utils.cleaning import cleanCSV\n",
    "if config[\"csv_raw\"]:\n",
    "    cleanCSV(config[\"pathData\"], yearList=config[\"yearList\"], ipcList=config[\"ipcList\"])"
   ]
  },
  {
   "cell_type": "markdown",
   "id": "6f2af819",
   "metadata": {},
   "source": [
    "### From csv_clean to metrics_raw"
   ]
  },
  {
   "cell_type": "code",
   "execution_count": 12,
   "id": "8aeff558",
   "metadata": {},
   "outputs": [
    {
     "name": "stdout",
     "output_type": "stream",
     "text": [
      "2016\n",
      "    F03D\n",
      "ES\n",
      "ES finidhsed\n",
      "KS\n",
      "KS finished\n"
     ]
    }
   ],
   "source": [
    "from utils.utils import measureNov\n",
    "if config[\"metrics_raw\"]:\n",
    "    measureNov(pathData=config[\"pathData\"], pathMetrics=config[\"pathMetrics\"], tE_cols=config[\"tE_cols\"], base_cols=config[\"base_cols\"],\n",
    "                w_size=config[\"w_size\"], yearList=config[\"yearList\"], ipcList=config[\"ipcList\"], chunksize=config[\"chunksize\"], metrics_to_compute=config[\"metrics_to_compute\"],\n",
    "                thr_new_div=config[\"thr_new_div\"], thr_new_div_flag=config[\"thr_new_div_flag\"], thr_new_prob=config[\"thr_new_prob\"], thr_new_prob_flag=config[\"thr_new_prob_flag\"],\n",
    "                thr_uniq_flag=config[\"thr_uniq_flag\"], thr_uniqp_flag=config[\"thr_uniqp_flag\"], useClusters=config[\"useClusters\"], nb_clusters=config[\"nb_clusters\"], neighbor_dist=config[\"neighbor_dist\"],\n",
    "                thr_diff=config[\"thr_diff\"], thr_surp=config[\"thr_surp\"], forDemo=config[\"forDemo\"])"
   ]
  },
  {
   "cell_type": "markdown",
   "id": "2d962270",
   "metadata": {},
   "source": [
    "### Match application & patent id"
   ]
  },
  {
   "cell_type": "code",
   "execution_count": null,
   "id": "7b0f5016",
   "metadata": {},
   "outputs": [
    {
     "name": "stderr",
     "output_type": "stream",
     "text": [
      "100%|██████████| 376384/376384 [1:53:09<00:00, 55.44it/s]  \n",
      "100%|██████████| 374739/374739 [1:56:15<00:00, 53.72it/s]  \n"
     ]
    }
   ],
   "source": [
    "from utils.utils import applicationPatent_match\n",
    "if True: # config[\"match_app_pat\"]:\n",
    "    applicationPatent_match([2012, 2013], config[\"pathData\"]) #config[\"yearList\"]"
   ]
  },
  {
   "cell_type": "markdown",
   "id": "4d87bdf9",
   "metadata": {},
   "source": [
    "### Control Variables"
   ]
  },
  {
   "cell_type": "code",
   "execution_count": null,
   "id": "3f36c2ee",
   "metadata": {},
   "outputs": [],
   "source": [
    "from utils.utils import addControlVars\n",
    "if config[\"controlVars\"]:\n",
    "    addControlVars(ipcList=config[\"ipcList\"], yearList=config[\"yearList\"], sC = config[\"sC\"], pathData=config[\"pathData\"], pathMetrics=config[\"pathMetrics\"]) #18s"
   ]
  },
  {
   "cell_type": "markdown",
   "id": "779d03b8",
   "metadata": {},
   "source": [
    "### CD-Index"
   ]
  },
  {
   "cell_type": "code",
   "execution_count": 9,
   "id": "0f0a8b94",
   "metadata": {},
   "outputs": [],
   "source": [
    "from utils.utils import createGraph, calculateCDI\n",
    "\n",
    "if config[\"cd_index_compute\"]:\n",
    "    graph, valid_patent_ids = createGraph(config[\"pathData\"]) # 18m\n",
    "    calculateCDI(graph, valid_patent_ids, config[\"pathMetrics\"]) # 42m\n",
    "\n",
    "# print(graph.ecount())\n",
    "# print(graph.vcount())\n",
    "# print(\"_is_graph_sane: \", graph._is_graph_sane())"
   ]
  },
  {
   "cell_type": "markdown",
   "id": "955ed06b",
   "metadata": {},
   "source": [
    "### Metrics analysis"
   ]
  },
  {
   "cell_type": "code",
   "execution_count": null,
   "id": "2e470b10",
   "metadata": {},
   "outputs": [
    {
     "name": "stderr",
     "output_type": "stream",
     "text": [
      "c:\\Users\\edgar\\OneDrive\\Bureau\\Ecole\\HEC\\A24\\BrevetNLP\\.conda\\Lib\\site-packages\\spacy\\util.py:910: UserWarning: [W095] Model 'en_core_web_sm' (3.8.0) was trained with spaCy v3.8.0 and may not be 100% compatible with the current version (3.7.5). If you see errors or degraded performance, download a newer compatible model or retrain your custom model with the current spaCy version. For more details and available updates, run: python -m spacy validate\n",
      "  warnings.warn(warn_msg)\n",
      "c:\\Users\\edgar\\OneDrive\\Bureau\\Ecole\\HEC\\A24\\BrevetNLP\\.conda\\Lib\\site-packages\\spacy\\util.py:910: UserWarning: [W095] Model 'en_core_web_sm' (3.8.0) was trained with spaCy v3.8.0 and may not be 100% compatible with the current version (3.7.5). If you see errors or degraded performance, download a newer compatible model or retrain your custom model with the current spaCy version. For more details and available updates, run: python -m spacy validate\n",
      "  warnings.warn(warn_msg)\n",
      "[nltk_data] Downloading package stopwords to\n",
      "[nltk_data]     C:\\Users\\edgar\\AppData\\Roaming\\nltk_data...\n",
      "[nltk_data]   Package stopwords is already up-to-date!\n"
     ]
    }
   ],
   "source": [
    "from utils.utils import metricAnalysis, output_to_excel\n",
    "if config[\"metricAnalysis\"]:\n",
    "    df_list, sheet_names = metricAnalysis(pathMetrics=config[\"pathMetrics\"], pathData=config[\"pathData\"], p=config[\"p_rbo\"], yearList=config[\"yearList\"])\n",
    "    output_to_excel(df_list, sheet_names, pathMetrics = config[\"pathMetrics\"])\n",
    "# 12s"
   ]
  },
  {
   "cell_type": "markdown",
   "id": "9726af00",
   "metadata": {},
   "source": [
    "### top10"
   ]
  },
  {
   "cell_type": "code",
   "execution_count": null,
   "id": "d23024b5",
   "metadata": {},
   "outputs": [
    {
     "name": "stderr",
     "output_type": "stream",
     "text": [
      "c:\\Users\\edgar\\OneDrive\\Bureau\\Ecole\\HEC\\A24\\BrevetNLP\\.conda\\Lib\\site-packages\\spacy\\util.py:910: UserWarning: [W095] Model 'en_core_web_sm' (3.8.0) was trained with spaCy v3.8.0 and may not be 100% compatible with the current version (3.7.5). If you see errors or degraded performance, download a newer compatible model or retrain your custom model with the current spaCy version. For more details and available updates, run: python -m spacy validate\n",
      "  warnings.warn(warn_msg)\n",
      "c:\\Users\\edgar\\OneDrive\\Bureau\\Ecole\\HEC\\A24\\BrevetNLP\\.conda\\Lib\\site-packages\\spacy\\util.py:910: UserWarning: [W095] Model 'en_core_web_sm' (3.8.0) was trained with spaCy v3.8.0 and may not be 100% compatible with the current version (3.7.5). If you see errors or degraded performance, download a newer compatible model or retrain your custom model with the current spaCy version. For more details and available updates, run: python -m spacy validate\n",
      "  warnings.warn(warn_msg)\n",
      "[nltk_data] Downloading package stopwords to\n",
      "[nltk_data]     C:\\Users\\edgar\\AppData\\Roaming\\nltk_data...\n",
      "[nltk_data]   Package stopwords is already up-to-date!\n"
     ]
    }
   ],
   "source": [
    "from utils.utils import top10Complete\n",
    "if config[\"top10\"]:\n",
    "    top10Complete(pathMetrics=config[\"pathMetrics\"], pathData=config[\"pathData\"],  ipcList=config[\"ipcList\"], vsList=config[\"vsList\"], yearList=config[\"yearList\"])\n",
    "# 12s"
   ]
  }
 ],
 "metadata": {
  "kernelspec": {
   "display_name": "Python 3",
   "language": "python",
   "name": "python3"
  },
  "language_info": {
   "codemirror_mode": {
    "name": "ipython",
    "version": 3
   },
   "file_extension": ".py",
   "mimetype": "text/x-python",
   "name": "python",
   "nbconvert_exporter": "python",
   "pygments_lexer": "ipython3",
   "version": "3.11.10"
  }
 },
 "nbformat": 4,
 "nbformat_minor": 5
}
